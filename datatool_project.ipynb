{
 "cells": [
  {
   "cell_type": "markdown",
   "id": "8700b828-b092-426a-85a9-c255cdd14faf",
   "metadata": {},
   "source": [
    "# My Jupiter Notebook on IBM Watson Studio"
   ]
  },
  {
   "cell_type": "markdown",
   "id": "02174056-e147-4204-b46c-7d61bf571dc9",
   "metadata": {},
   "source": [
    "**Khoi Le**\n",
    "\n",
    "I want to be a data scientist"
   ]
  },
  {
   "cell_type": "markdown",
   "id": "8aec310b-fe73-45e1-81ba-7a1a623b4d77",
   "metadata": {},
   "source": [
    "*I love data science because of its usefulness in application to the medical field*"
   ]
  },
  {
   "cell_type": "markdown",
   "id": "6efa65b0-5518-4b15-8c66-4ca311751121",
   "metadata": {},
   "source": [
    "### The below should print \"Hello Khoi\""
   ]
  },
  {
   "cell_type": "code",
   "execution_count": 3,
   "id": "c972ec7c-adbe-466d-801e-4488ed6abe60",
   "metadata": {},
   "outputs": [
    {
     "name": "stdout",
     "output_type": "stream",
     "text": [
      "hello Khoi\n"
     ]
    }
   ],
   "source": [
    "print(\"hello Khoi\")"
   ]
  },
  {
   "cell_type": "markdown",
   "id": "7142d84d-e200-4894-9bc5-6196c35db6ac",
   "metadata": {},
   "source": [
    "* this is bullet\n",
    "\n",
    "https://www.coursera.org/learn/open-source-tools-for-data-science/ungradedLti/Z1VP1/peer-graded-assignment\n",
    "\n",
    "> blocked code"
   ]
  },
  {
   "cell_type": "code",
   "execution_count": null,
   "id": "20b1d989-90f2-487c-91c8-b6d996d76062",
   "metadata": {},
   "outputs": [],
   "source": []
  }
 ],
 "metadata": {
  "kernelspec": {
   "display_name": "Python",
   "language": "python",
   "name": "conda-env-python-py"
  },
  "language_info": {
   "codemirror_mode": {
    "name": "ipython",
    "version": 3
   },
   "file_extension": ".py",
   "mimetype": "text/x-python",
   "name": "python",
   "nbconvert_exporter": "python",
   "pygments_lexer": "ipython3",
   "version": "3.7.12"
  }
 },
 "nbformat": 4,
 "nbformat_minor": 5
}
